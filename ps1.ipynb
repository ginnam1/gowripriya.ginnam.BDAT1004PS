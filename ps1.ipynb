{
 "cells": [
  {
   "cell_type": "markdown",
   "id": "8535c94b",
   "metadata": {},
   "source": [
    "# question1\n",
    "What data type is each of the following?\n",
    "5 = \n",
    "5.0\n",
    "5 > 1= \n",
    "'5'\n",
    "5 * 2\n",
    "'5' * 2\n",
    "'5' + '2'\n",
    "5 / 2\n",
    "5 % 2\n",
    "{5, 2, 1}\n",
    "5 == 3\n",
    "Pi (the number)\n"
   ]
  },
  {
   "cell_type": "code",
   "execution_count": null,
   "id": "39756911",
   "metadata": {},
   "outputs": [],
   "source": [
    "5 =  Its an integer type.\n",
    "5.0 = Its an integer type.\n",
    "5 > 1= True, its a boolean data type.\n",
    "'5' = under ' ' , takes as  data type.  \n",
    "5 * 2 = 10, as 10 is int data type.\n",
    "'5' * 2 = product of string and int is always string, its string data type.\n",
    "'5' + '2' = string concatination takes place and results string data type.\n",
    "5 / 2 = 2.5, its a integer data type.\n",
    "5 % 2 = 1, its a integer data type.\n",
    "{5, 2, 1}=an Array of integer type\n",
    "5 == 3 = F, boolean Data type.\n",
    "Pi (the number) = 3.148.., float or double is type of data.\n"
   ]
  },
  {
   "cell_type": "markdown",
   "id": "dbd0c08b",
   "metadata": {},
   "source": [
    "# Question 2 C#\n",
    "Write (and evaluate) C# expressions that answer these questions:\n",
    "a. How many letters are there in 'Supercalifragilisticexpialidocious'?\n",
    "b. Does 'Supercalifragilisticexpialidocious' contain 'ice' as a substring? \n",
    "c. Which of the following words is the longest:\n",
    "Supercalifragilisticexpialidocious, Honorificabilitudinitatibus, or\n",
    "Bababadalgharaghtakamminarronnkonn?\n",
    "d. Which composer comes first in the dictionary: 'Berlioz', 'Borodin', 'Brian',\n",
    "'Bartok', 'Bellini', 'Buxtehude', 'Bernstein'. Which one comes last?"
   ]
  },
  {
   "cell_type": "code",
   "execution_count": 60,
   "id": "4cdaadca",
   "metadata": {},
   "outputs": [
    {
     "name": "stdout",
     "output_type": "stream",
     "text": [
      "no.of letters:34"
     ]
    }
   ],
   "source": [
    "//answer a\n",
    "public class Count\n",
    "{  \n",
    "    public void Getcount(string str)\n",
    "    {    \n",
    "        int var = 0;   \n",
    "        foreach(char c in str) \n",
    "        {\n",
    "        var = var +1;  \n",
    "        }    \n",
    "        Console.Write(\"no.of letters:\"+var);  \n",
    "    }  \n",
    "}  \n",
    "Count cc=new Count();\n",
    "cc.Getcount(\"Supercalifragilisticexpialidocious\");\n"
   ]
  },
  {
   "cell_type": "code",
   "execution_count": 26,
   "id": "c9233c04",
   "metadata": {},
   "outputs": [
    {
     "name": "stdout",
     "output_type": "stream",
     "text": [
      "ice is substring"
     ]
    }
   ],
   "source": [
    "//answer b\n",
    "string a = \"Supercalifragilisticexpialidocious\";\n",
    "string b = \"ice\";\n",
    "if(a.Contains(b))\n",
    "{\n",
    "Console.Write(\"ice is substring\");\n",
    "}\n",
    "else\n",
    "{\n",
    "Console.Write(\"ice is not substring\");\n",
    "}"
   ]
  },
  {
   "cell_type": "code",
   "execution_count": 23,
   "id": "46b34c07",
   "metadata": {},
   "outputs": [
    {
     "name": "stdout",
     "output_type": "stream",
     "text": [
      "b =Bababadalgharaghtakamminarronnkonn is longest"
     ]
    }
   ],
   "source": [
    "//answerc:\n",
    "string a = \"Supercalifragilisticexpialidocious\";\n",
    "string b = \"Honorificabilitudinitatibus\";\n",
    "string c = \"Bababadalgharaghtakamminarronnkonn\";\n",
    "int aLength = a.Length;\n",
    "int bLength = b.Length;\n",
    "int cLength = c.Length;\n",
    "if(aLength>bLength)\n",
    "{\n",
    "if(aLength>cLength)\n",
    "{Console.Write(\" a=Supercalifragilisticexpialidocious is longest\");}\n",
    "else\n",
    "{Console.Write(\"b =Bababadalgharaghtakamminarronnkonn is longest\");}}\n",
    "else\n",
    "{Console.Write(\"c =Honorificabilitudinitatibus is longest\");\n",
    "}\n",
    "\n",
    "\n"
   ]
  },
  {
   "cell_type": "code",
   "execution_count": 29,
   "id": "09a063dc",
   "metadata": {},
   "outputs": [
    {
     "name": "stdout",
     "output_type": "stream",
     "text": [
      "first in the dictionary is:Bartok\n",
      "last in the dictionary is:Buxtehude\n"
     ]
    }
   ],
   "source": [
    "//answerd:\n",
    "var composer = new List<string>();\n",
    "composer.Add(\"Berlioz\");\n",
    "composer.Add(\"Borodin\");\n",
    "composer.Add(\"Brian\");\n",
    "composer.Add(\"Bartok\");\n",
    "composer.Add(\"Bellini\");\n",
    "composer.Add(\"Buxtehude\");\n",
    "composer.Add(\"Bernstein\");\n",
    "composer.Sort();\n",
    "Console.WriteLine(\"first in the dictionary is:\" + composer[0]); //the rest of them can be called by composer[1],composer[2],...\n",
    "Console.WriteLine(\"last in the dictionary is:\" + composer[6]);"
   ]
  },
  {
   "cell_type": "markdown",
   "id": "6c5216a4",
   "metadata": {},
   "source": [
    "# Question 3 C#\n",
    "Implement function triangleArea(a,b,c) that takes as input the lengths of the 3\n",
    "sides of a triangle and returns the area of the triangle."
   ]
  },
  {
   "cell_type": "code",
   "execution_count": 34,
   "id": "abf5d9cb",
   "metadata": {},
   "outputs": [
    {
     "name": "stdout",
     "output_type": "stream",
     "text": [
      "Area of triangle:1.7320508075688772\r\n"
     ]
    }
   ],
   "source": [
    "//answer\n",
    "public class area\n",
    "{public void AoT(int a, int b, int c) //Aot is area of triangle\n",
    "{\n",
    "    float s = (a+b+c)/2; //from herons formul\n",
    "    float z= s*(s-a)*(s-b)*(s-c);\n",
    "    double A= Math.Sqrt(z);\n",
    "    Console.WriteLine(\"Area of triangle:\"+A);\n",
    "}\n",
    "}\n",
    "area a=new area();\n",
    "a.AoT(2,2,2);\n",
    "    "
   ]
  },
  {
   "cell_type": "markdown",
   "id": "12b014be",
   "metadata": {},
   "source": [
    "# question 4 c#\n",
    "Write a program in C# Sharp to separate odd and even integers in separate arrays.\n"
   ]
  },
  {
   "cell_type": "code",
   "execution_count": 55,
   "id": "b3a4f7de",
   "metadata": {},
   "outputs": [
    {
     "name": "stdout",
     "output_type": "stream",
     "text": [
      "\n",
      "Even numbers..\n",
      "\n",
      "25\n",
      "47\n",
      "42\n",
      "\n",
      "Odd numbers..\n",
      "\n",
      "25\n",
      "47\n"
     ]
    }
   ],
   "source": [
    "int[] nums = {25,47,42,56,32};\n",
    "        int[] odds = new int[5];\n",
    "        int[] evens = new int[5];\n",
    "        int x = 0;\n",
    "        int y = 0;\n",
    "\n",
    "        for (int i = 0; i < 5; i++)\n",
    "        {\n",
    "            if (nums[i] % 2 == 0)\n",
    "            {\n",
    "                evens[x] = nums[i];\n",
    "                x++;\n",
    "            }\n",
    "            else\n",
    "            {\n",
    "                odds[y] = nums[i];\n",
    "                y++;\n",
    "            }\n",
    "        }\n",
    "\n",
    "        Console.WriteLine(\"\\nEven numbers..\\n\");\n",
    "        int number = 0;\n",
    "while(number < x)\n",
    "        {\n",
    "            Console.Write(nums[number]+ \"\\n\");\n",
    "    number++;\n",
    "        }\n",
    "\n",
    "       Console.WriteLine(\"\\nOdd numbers..\\n\");\n",
    "       int num = 0;\n",
    "while(num < y)\n",
    "        {\n",
    "            Console.Write(nums[num]+ \"\\n\");\n",
    "    num++;\n",
    "        }\n",
    "        "
   ]
  },
  {
   "cell_type": "markdown",
   "id": "8320a514",
   "metadata": {},
   "source": [
    "# question 5 \n",
    "a. Write a function inside(x,y,x1,y1,x2,y2) that returns True or False\n",
    "depending on whether the point (x,y) lies in the rectangle with lower left\n",
    "corner (x1,y1) and upper right corner (x2,y2).\n",
    "b. Use function inside() from part a. to write an expression that tests whether\n",
    "the point (1,1) lies in both of the following rectangles: one with lower left\n",
    "corner (0.3, 0.5) and upper right corner (1.1, 0.7) and the other with lower\n",
    "left corner (0.5, 0.2) and upper right corner (1.1, 2)."
   ]
  },
  {
   "cell_type": "code",
   "execution_count": 69,
   "id": "7d996f64",
   "metadata": {},
   "outputs": [
    {
     "name": "stdout",
     "output_type": "stream",
     "text": [
      "\n",
      " [a]\n",
      "True\n",
      "False\n",
      "\n",
      " [b]\n",
      "False\n",
      "True\n"
     ]
    }
   ],
   "source": [
    "//a\n",
    "static bool inside(double x,double y,double x1,double y1,double x2,double y2)\n",
    "{if(x>x1 && x<x2 && y>y1 && y<y2)\n",
    " return true;\n",
    "else\n",
    " return false;\n",
    "}\n",
    "Console.WriteLine(\"\\n [a]\");\n",
    "Console.WriteLine(inside(1,1,0,0,2,3));\n",
    "Console.WriteLine(inside(-1,-1,0,0,2,3));\n",
    "//b\n",
    "Console.WriteLine(\"\\n [b]\");\n",
    "Console.WriteLine(inside(1,1,0.3,0.5,1.1,0.7));\n",
    "Console.WriteLine(inside(1,1,0.5,0.2,1.1,2));\n"
   ]
  },
  {
   "cell_type": "markdown",
   "id": "f4c12aae",
   "metadata": {},
   "source": [
    "# Question 6 Python\n",
    "16. You can turn a word into pig-Latin using the following two rules (simplified):\n",
    "• If the word starts with a consonant, move that letter to the end and append\n",
    "'ay'. For example, 'happy' becomes 'appyhay' and 'pencil' becomes 'encilpay'.\n",
    "• If the word starts with a vowel, simply append 'way' to the end of the word.\n",
    "For example, 'enter' becomes 'enterway' and 'other' becomes 'otherway' . For\n",
    "our purposes, there are 5 vowels: a, e, i, o, u (so we count y as a consonant).\n",
    "Write a function pig() that takes a word (i.e., a string) as input and returns its pigLatin form. Your function should still work if the input word contains upper case\n",
    "characters. Your output should always be lower case however. "
   ]
  },
  {
   "cell_type": "code",
   "execution_count": 51,
   "id": "98643593",
   "metadata": {},
   "outputs": [
    {
     "name": "stdout",
     "output_type": "stream",
     "text": [
      "appyhay\n",
      "enterway\n",
      "encilpay\n",
      "otherway\n",
      "igpay\n"
     ]
    }
   ],
   "source": [
    "def pig(x): #pig() function is created\n",
    "    x=x.lower()\n",
    "    if (x[0]=='a' or x[0]=='e' or x[0]=='i' or x[0]=='o' or x[0]=='u'): #a,e,i,o,u are vowels\n",
    "        pigLatin = x +\"way\" #if first letter is vowel +way adds and encodes\n",
    "        print(pigLatin)\n",
    "    else:\n",
    "        pigLatin= x[1:]+x[0]+\"ay\" #if first letter isnt vowel +ay is added\n",
    "        print(pigLatin)\n",
    "pig('happy')\n",
    "pig('Enter')\n",
    "pig('Pencil')\n",
    "pig('Other')\n",
    "pig('pig')\n"
   ]
  },
  {
   "cell_type": "markdown",
   "id": "a66f599b",
   "metadata": {},
   "source": [
    "# Question 7 Python\n",
    "File bloodtype1.txt records blood-types of patients (A, B, AB, O or OO) at a clinic.\n",
    "Write a function bldcount() that reads the file with name name and reports (i.e.,\n",
    "prints) how many patients there are in each bloodtype."
   ]
  },
  {
   "cell_type": "code",
   "execution_count": 66,
   "id": "36c2c1bb",
   "metadata": {},
   "outputs": [
    {
     "name": "stdout",
     "output_type": "stream",
     "text": [
      "no.of paitents of blood grp A : 15\n",
      "no.of patient of blood grp  B : 1\n",
      "no.of paitents of blood grp AB : 13\n",
      "no.of paitents of blood grp O : 15\n",
      "no.of patients of blood grp OO : 0\n"
     ]
    }
   ],
   "source": [
    "def bldcount(x): #bldcount() function is written\n",
    "    file = open(x) #opens file\n",
    "    name = file.read() #reads content of file\n",
    "    file.close() #after reading it closes\n",
    "    name = name.split()\n",
    "    Bldgroups= ['A','B','AB','O','OO']\n",
    "    for i in Bldgroups:\n",
    "        if name.count(i)==0:\n",
    "            print(\"no.of patients of blood grp\",i,\":\", name.count(i))\n",
    "        elif name.count(i)==1:\n",
    "            print(\"no.of patient of blood grp \",i, \":\",name.count(i))\n",
    "        else:\n",
    "            print(\"no.of paitents of blood grp\", i, \":\", name.count(i))\n",
    "bldcount(\"bloodtype1.txt\") #bloodtype1.txt file is called "
   ]
  },
  {
   "cell_type": "markdown",
   "id": "2f62f704",
   "metadata": {},
   "source": [
    "# Question 8 Python\n",
    "Write a function curconv() that takes as input:\n",
    "1. a currency represented using a string (e.g., 'JPY' for the Japanese Yen or\n",
    "'EUR' for the Euro)\n",
    "2. an amount\n",
    "and then converts and returns the amount in US dollars."
   ]
  },
  {
   "cell_type": "code",
   "execution_count": 67,
   "id": "08beecba",
   "metadata": {},
   "outputs": [
    {
     "name": "stdout",
     "output_type": "stream",
     "text": [
      "122.96544\n",
      "1.241401\n"
     ]
    }
   ],
   "source": [
    "def curconv(cur,amt): #curcovf function is written\n",
    "    file= open('currencies.txt','r') #curencies.txt is called and opend\n",
    "    x = file.readlines() \n",
    "    file.close()\n",
    "    for i in x:\n",
    "        if cur ==i.split()[0]:\n",
    "            return float(i.split()[1])*amt\n",
    "print(curconv('EUR',100))\n",
    "print(curconv('JPY',100))\n"
   ]
  },
  {
   "cell_type": "markdown",
   "id": "d7b853dc",
   "metadata": {},
   "source": [
    "# question 9 \n",
    "Each of the following will cause an exception (an error). Identify what type of\n",
    "exception each will cause."
   ]
  },
  {
   "cell_type": "code",
   "execution_count": 70,
   "id": "03e4d5a7",
   "metadata": {},
   "outputs": [
    {
     "ename": "TypeError",
     "evalue": "unsupported operand type(s) for +: 'int' and 'str'",
     "output_type": "error",
     "traceback": [
      "\u001b[1;31m---------------------------------------------------------------------------\u001b[0m",
      "\u001b[1;31mTypeError\u001b[0m                                 Traceback (most recent call last)",
      "\u001b[1;32mC:\\Users\\GINNAM~1\\AppData\\Local\\Temp/ipykernel_33136/2030628506.py\u001b[0m in \u001b[0;36m<module>\u001b[1;34m\u001b[0m\n\u001b[0;32m      1\u001b[0m \u001b[1;31m#Trying to add incompatible variables, as in adding 6 + ‘a’\u001b[0m\u001b[1;33m\u001b[0m\u001b[1;33m\u001b[0m\u001b[0m\n\u001b[1;32m----> 2\u001b[1;33m \u001b[0mx\u001b[0m\u001b[1;33m=\u001b[0m\u001b[1;36m6\u001b[0m\u001b[1;33m+\u001b[0m\u001b[1;34m'a'\u001b[0m\u001b[1;33m\u001b[0m\u001b[1;33m\u001b[0m\u001b[0m\n\u001b[0m\u001b[0;32m      3\u001b[0m \u001b[0mprint\u001b[0m\u001b[1;33m(\u001b[0m\u001b[0mx\u001b[0m\u001b[1;33m)\u001b[0m\u001b[1;33m\u001b[0m\u001b[1;33m\u001b[0m\u001b[0m\n\u001b[0;32m      4\u001b[0m \u001b[1;33m\u001b[0m\u001b[0m\n\u001b[0;32m      5\u001b[0m \u001b[1;31m#Referring to the 12th item of a list that has only 10 items\u001b[0m\u001b[1;33m\u001b[0m\u001b[1;33m\u001b[0m\u001b[0m\n",
      "\u001b[1;31mTypeError\u001b[0m: unsupported operand type(s) for +: 'int' and 'str'"
     ]
    }
   ],
   "source": [
    "#Trying to add incompatible variables, as in adding 6 + ‘a’\n",
    "x=6+'a'\n",
    "print(x)\n"
   ]
  },
  {
   "cell_type": "code",
   "execution_count": 71,
   "id": "7ee6eaee",
   "metadata": {},
   "outputs": [
    {
     "ename": "IndexError",
     "evalue": "list index out of range",
     "output_type": "error",
     "traceback": [
      "\u001b[1;31m---------------------------------------------------------------------------\u001b[0m",
      "\u001b[1;31mIndexError\u001b[0m                                Traceback (most recent call last)",
      "\u001b[1;32mC:\\Users\\GINNAM~1\\AppData\\Local\\Temp/ipykernel_33136/3272209950.py\u001b[0m in \u001b[0;36m<module>\u001b[1;34m\u001b[0m\n\u001b[0;32m      1\u001b[0m \u001b[1;31m#Referring to the 12th item of a list that has only 10 items\u001b[0m\u001b[1;33m\u001b[0m\u001b[1;33m\u001b[0m\u001b[0m\n\u001b[0;32m      2\u001b[0m \u001b[0mlist\u001b[0m\u001b[1;33m=\u001b[0m\u001b[1;33m[\u001b[0m\u001b[1;36m0\u001b[0m\u001b[1;33m,\u001b[0m\u001b[1;36m1\u001b[0m\u001b[1;33m,\u001b[0m\u001b[1;36m2\u001b[0m\u001b[1;33m,\u001b[0m\u001b[1;36m3\u001b[0m\u001b[1;33m,\u001b[0m\u001b[1;36m4\u001b[0m\u001b[1;33m,\u001b[0m\u001b[1;36m5\u001b[0m\u001b[1;33m,\u001b[0m\u001b[1;36m6\u001b[0m\u001b[1;33m,\u001b[0m\u001b[1;36m7\u001b[0m\u001b[1;33m,\u001b[0m\u001b[1;36m8\u001b[0m\u001b[1;33m,\u001b[0m\u001b[1;36m9\u001b[0m\u001b[1;33m]\u001b[0m\u001b[1;33m\u001b[0m\u001b[1;33m\u001b[0m\u001b[0m\n\u001b[1;32m----> 3\u001b[1;33m \u001b[0mprint\u001b[0m\u001b[1;33m(\u001b[0m\u001b[0mlist\u001b[0m\u001b[1;33m[\u001b[0m\u001b[1;36m12\u001b[0m\u001b[1;33m]\u001b[0m\u001b[1;33m)\u001b[0m\u001b[1;33m\u001b[0m\u001b[1;33m\u001b[0m\u001b[0m\n\u001b[0m",
      "\u001b[1;31mIndexError\u001b[0m: list index out of range"
     ]
    }
   ],
   "source": [
    "#Referring to the 12th item of a list that has only 10 items\n",
    "list=[0,1,2,3,4,5,6,7,8,9]\n",
    "print(list[12])\n",
    "#if list[9] is given results inside range"
   ]
  },
  {
   "cell_type": "code",
   "execution_count": 77,
   "id": "b85e870a",
   "metadata": {},
   "outputs": [
    {
     "ename": "ValueError",
     "evalue": "math domain error",
     "output_type": "error",
     "traceback": [
      "\u001b[1;31m---------------------------------------------------------------------------\u001b[0m",
      "\u001b[1;31mValueError\u001b[0m                                Traceback (most recent call last)",
      "\u001b[1;32mC:\\Users\\GINNAM~1\\AppData\\Local\\Temp/ipykernel_33136/4243204738.py\u001b[0m in \u001b[0;36m<module>\u001b[1;34m\u001b[0m\n\u001b[0;32m      1\u001b[0m \u001b[1;31m#Using a value that is out of range for a function’s input, such as calling math.sqrt(-1.0)\u001b[0m\u001b[1;33m\u001b[0m\u001b[1;33m\u001b[0m\u001b[0m\n\u001b[0;32m      2\u001b[0m \u001b[1;32mimport\u001b[0m \u001b[0mmath\u001b[0m\u001b[1;33m\u001b[0m\u001b[1;33m\u001b[0m\u001b[0m\n\u001b[1;32m----> 3\u001b[1;33m \u001b[0mprint\u001b[0m\u001b[1;33m(\u001b[0m\u001b[0mmath\u001b[0m\u001b[1;33m.\u001b[0m\u001b[0msqrt\u001b[0m\u001b[1;33m(\u001b[0m\u001b[1;33m-\u001b[0m\u001b[1;36m1.0\u001b[0m\u001b[1;33m)\u001b[0m\u001b[1;33m)\u001b[0m\u001b[1;33m\u001b[0m\u001b[1;33m\u001b[0m\u001b[0m\n\u001b[0m\u001b[0;32m      4\u001b[0m \u001b[1;31m# if print(math.sqrt(1.0)) is given output gives 1.0\u001b[0m\u001b[1;33m\u001b[0m\u001b[1;33m\u001b[0m\u001b[0m\n",
      "\u001b[1;31mValueError\u001b[0m: math domain error"
     ]
    }
   ],
   "source": [
    "#Using a value that is out of range for a function’s input, such as calling math.sqrt(-1.0)\n",
    "import math\n",
    "print(math.sqrt(-1.0))\n",
    "# if print(math.sqrt(1.0)) is given output gives 1.0"
   ]
  },
  {
   "cell_type": "code",
   "execution_count": 78,
   "id": "0e229071",
   "metadata": {},
   "outputs": [
    {
     "ename": "NameError",
     "evalue": "name 'x' is not defined",
     "output_type": "error",
     "traceback": [
      "\u001b[1;31m---------------------------------------------------------------------------\u001b[0m",
      "\u001b[1;31mNameError\u001b[0m                                 Traceback (most recent call last)",
      "\u001b[1;32mC:\\Users\\GINNAM~1\\AppData\\Local\\Temp/ipykernel_33136/2297992988.py\u001b[0m in \u001b[0;36m<module>\u001b[1;34m\u001b[0m\n\u001b[0;32m      1\u001b[0m \u001b[1;31m#Using an undeclared variable, such as print(x) when x has not been defined\u001b[0m\u001b[1;33m\u001b[0m\u001b[1;33m\u001b[0m\u001b[0m\n\u001b[1;32m----> 2\u001b[1;33m \u001b[0mprint\u001b[0m\u001b[1;33m(\u001b[0m\u001b[0mx\u001b[0m\u001b[1;33m)\u001b[0m\u001b[1;33m\u001b[0m\u001b[1;33m\u001b[0m\u001b[0m\n\u001b[0m",
      "\u001b[1;31mNameError\u001b[0m: name 'x' is not defined"
     ]
    }
   ],
   "source": [
    "#Using an undeclared variable, such as print(x) when x has not been defined\n",
    "\n",
    "\n",
    "print(x) #without defining x it reults as not defined"
   ]
  },
  {
   "cell_type": "code",
   "execution_count": 81,
   "id": "0c53e94a",
   "metadata": {},
   "outputs": [
    {
     "ename": "FileNotFoundError",
     "evalue": "[Errno 2] No such file or directory: 'currency.txt'",
     "output_type": "error",
     "traceback": [
      "\u001b[1;31m---------------------------------------------------------------------------\u001b[0m",
      "\u001b[1;31mFileNotFoundError\u001b[0m                         Traceback (most recent call last)",
      "\u001b[1;32mC:\\Users\\GINNAM~1\\AppData\\Local\\Temp/ipykernel_33136/4218087148.py\u001b[0m in \u001b[0;36m<module>\u001b[1;34m\u001b[0m\n\u001b[0;32m      1\u001b[0m \u001b[1;31m#Trying to open a file that does not exist, such as mistyping the file name or looking in the wrong directory.\u001b[0m\u001b[1;33m\u001b[0m\u001b[1;33m\u001b[0m\u001b[0m\n\u001b[1;32m----> 2\u001b[1;33m \u001b[0mopen\u001b[0m\u001b[1;33m(\u001b[0m\u001b[1;34m'currency.txt'\u001b[0m\u001b[1;33m)\u001b[0m\u001b[1;33m\u001b[0m\u001b[1;33m\u001b[0m\u001b[0m\n\u001b[0m\u001b[0;32m      3\u001b[0m \u001b[1;33m\u001b[0m\u001b[0m\n\u001b[0;32m      4\u001b[0m \u001b[1;31m#i have file name currencies.txt\u001b[0m\u001b[1;33m\u001b[0m\u001b[1;33m\u001b[0m\u001b[0m\n\u001b[0;32m      5\u001b[0m \u001b[1;31m##open('currencies.txt')\u001b[0m\u001b[1;33m\u001b[0m\u001b[1;33m\u001b[0m\u001b[0m\n",
      "\u001b[1;31mFileNotFoundError\u001b[0m: [Errno 2] No such file or directory: 'currency.txt'"
     ]
    }
   ],
   "source": [
    "#Trying to open a file that does not exist, such as mistyping the file name or looking in the wrong directory. \n",
    "open('currency.txt')\n",
    "\n",
    "#i have file name currencies.txt which opens by giving following line\n",
    "##open('currencies.txt')\n"
   ]
  },
  {
   "cell_type": "markdown",
   "id": "535294de",
   "metadata": {},
   "source": [
    "# Question 10 Python\n",
    "Encryption is the process of hiding the meaning of a text by substituting letters in the\n",
    "message with other letters, according to some system. If the process is successful, no\n",
    "one but the intended recipient can understand the encrypted message. Cryptanalysis\n",
    "refers to attempts to undo the encryption, even if some details of the encryption are\n",
    "unknown (for example, if an encrypted message has been intercepted). The first step\n",
    "of cryptanalysis is often to build up a table of letter frequencies in the encrypted text.\n",
    "Assume that the string letters is already defined as\n",
    "'abcdefghijklmnopqrstuvwxyz'. Write a function called frequencies()\n",
    "that takes a string as its only parameter, and returns a list of integers, showing the\n",
    "number of times each character appears in the text. Your function may ignore any\n",
    "characters that are not in letters. "
   ]
  },
  {
   "cell_type": "code",
   "execution_count": 85,
   "id": "d45edc46",
   "metadata": {},
   "outputs": [
    {
     "name": "stdout",
     "output_type": "stream",
     "text": [
      "[1, 1, 1, 3, 5, 1, 1, 2, 1, 0, 1, 0, 1, 2, 4, 0, 1, 2, 0, 2, 1, 0, 1, 1, 0, 0]\n",
      "[1, 0, 0, 0, 1, 0, 0, 0, 0, 0, 0, 1, 0, 0, 0, 2, 0, 0, 0, 0, 0, 0, 0, 0, 0, 0]\n"
     ]
    }
   ],
   "source": [
    "def frequencies(x): #frequencies() function is created\n",
    "    y=0\n",
    "    alphabets = 'abcdefghijklmnopqrstuvwxyz';\n",
    "    list=[]\n",
    "    for i in alphabets:\n",
    "        for j in x:\n",
    "            if i==j:\n",
    "                y=y+1\n",
    "        list.append(y)\n",
    "        y=0\n",
    "    print(list)\n",
    "frequencies('The quick red fox got bored and went home.')\n",
    "frequencies('apple')"
   ]
  }
 ],
 "metadata": {
  "kernelspec": {
   "display_name": "Python 3 (ipykernel)",
   "language": "python",
   "name": "python3"
  },
  "language_info": {
   "codemirror_mode": {
    "name": "ipython",
    "version": 3
   },
   "file_extension": ".py",
   "mimetype": "text/x-python",
   "name": "python",
   "nbconvert_exporter": "python",
   "pygments_lexer": "ipython3",
   "version": "3.9.7"
  }
 },
 "nbformat": 4,
 "nbformat_minor": 5
}
